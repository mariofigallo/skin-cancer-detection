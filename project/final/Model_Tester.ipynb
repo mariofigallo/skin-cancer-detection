{
  "cells": [
    {
      "cell_type": "code",
      "execution_count": 1,
      "metadata": {
        "id": "8ec0ec06-8032-4f5c-bee9-832276fb9e68"
      },
      "outputs": [],
      "source": [
        "import numpy as np\n",
        "from torch.utils.data.sampler import SubsetRandomSampler\n",
        "import torchvision.transforms as transforms\n",
        "import time\n",
        "import torch\n",
        "import torch.nn as nn\n",
        "import torch.nn.functional as F\n",
        "import torch.optim as optim\n",
        "import torchvision\n",
        "from torch.utils.data import Dataset, DataLoader\n",
        "from torch.utils.data.sampler import SubsetRandomSampler\n",
        "import torchvision.transforms as transforms\n",
        "import matplotlib.pyplot as plt\n",
        "import PIL, urllib\n",
        "import os\n",
        "from PIL import Image\n",
        "import pandas as pd"
      ]
    },
    {
      "cell_type": "code",
      "execution_count": 2,
      "metadata": {
        "id": "J5ulbmnET0Fo"
      },
      "outputs": [],
      "source": [
        "def get_diagnosis(image_name, file):\n",
        "\n",
        "    matching_row = file[file['image_id'] == image_name.split('.')[0]]\n",
        "    if not matching_row.empty:\n",
        "        return matching_row.iloc[0]['dx']\n",
        "    return None\n",
        "\n",
        "def create_image_diagnosis_dict(base_path, folder, file):\n",
        "    metadata = pd.read_csv(file)\n",
        "\n",
        "    image_diagnosis_dict = {}\n",
        "    path = base_path + folder\n",
        "    print(path)\n",
        "    for image_name in os.listdir(path):\n",
        "        diagnosis = get_diagnosis(image_name, metadata)\n",
        "        if diagnosis is not None:\n",
        "            image_diagnosis_dict[image_name] = diagnosis\n",
        "    return image_diagnosis_dict"
      ]
    },
    {
      "cell_type": "code",
      "execution_count": 3,
      "metadata": {
        "id": "Jqjv6PfKY0gI"
      },
      "outputs": [],
      "source": [
        "class diagnoses(Dataset):\n",
        "        CLASSES = ('nv', 'akiec', 'bcc', 'bkl', 'df', 'mel', 'vasc')\n",
        "\n",
        "        def __init__(self, data, transform=None):\n",
        "            self.data = data\n",
        "            self.transform = transform\n",
        "\n",
        "        def __len__(self):\n",
        "            return len(self.data)\n",
        "\n",
        "        def __getitem__(self, idx):\n",
        "            image_path, label = self.data[idx]\n",
        "            image = Image.open(image_path)\n",
        "            if self.transform:\n",
        "                image = self.transform(image)\n",
        "            try:\n",
        "                label_idx = self.CLASSES.index(label) if isinstance(label, str) else label\n",
        "            except ValueError:\n",
        "                print(f\"Error with label: {label} at index: {idx}\")\n",
        "                raise\n",
        "            return image, label_idx"
      ]
    },
    {
      "cell_type": "code",
      "source": [
        "from google.colab import drive\n",
        "drive.mount('/content/drive')"
      ],
      "metadata": {
        "id": "XUNGZUumzeQ3",
        "colab": {
          "base_uri": "https://localhost:8080/"
        },
        "outputId": "3287462b-41d0-440b-a089-0782627e4ef7"
      },
      "execution_count": 4,
      "outputs": [
        {
          "output_type": "stream",
          "name": "stdout",
          "text": [
            "Mounted at /content/drive\n"
          ]
        }
      ]
    },
    {
      "cell_type": "code",
      "execution_count": 5,
      "metadata": {
        "id": "PL0ZSvgxzWpt",
        "colab": {
          "base_uri": "https://localhost:8080/"
        },
        "outputId": "5a14c811-8edb-4786-d33e-3e5daad2c7f9"
      },
      "outputs": [
        {
          "output_type": "stream",
          "name": "stdout",
          "text": [
            "/content/drive/MyDrive/Skin Cancer Detection - APS360/data/test/ISIC2018_Task3_Test_Images\n"
          ]
        }
      ],
      "source": [
        "base_path = '/content/drive/MyDrive/Skin Cancer Detection - APS360/data'\n",
        "folders = ('/test/ISIC2018_Task3_Test_Images')\n",
        "metadata = '/test/ISIC2018_Task3_Test_GroundTruth.csv'\n",
        "\n",
        "dataset = []\n",
        "\n",
        "matches = create_image_diagnosis_dict(base_path, folders, base_path + metadata)"
      ]
    },
    {
      "cell_type": "code",
      "execution_count": 6,
      "metadata": {
        "id": "K9Fqn6ydzWpt"
      },
      "outputs": [],
      "source": [
        "def make_dataset(idx, base_path, folder, max_images=None):\n",
        "    CLASSES = ('nv', 'akiec', 'bcc', 'bkl', 'df', 'mel', 'vasc')\n",
        "    dataset = []\n",
        "    image_count = 0\n",
        "    path = base_path + folder\n",
        "    for img in sorted(os.listdir(path)):\n",
        "        if max_images and image_count >= 200000:\n",
        "            break  # Stop adding images once the maximum is reached\n",
        "        image_path = os.path.join(path, img)\n",
        "        label = idx.get(img)\n",
        "        if label is None or label not in CLASSES:\n",
        "            continue\n",
        "        dataset.append((image_path, label))\n",
        "        image_count += 1\n",
        "    return dataset"
      ]
    },
    {
      "cell_type": "code",
      "execution_count": 7,
      "metadata": {
        "id": "nEPiwCzazWpu"
      },
      "outputs": [],
      "source": [
        "from sklearn.model_selection import train_test_split\n",
        "from torch.utils.data import DataLoader, WeightedRandomSampler\n",
        "from collections import Counter\n",
        "\n",
        "def get_data_loader_test(batch_size, idx, base_path, folders):\n",
        "\n",
        "    transform = transforms.Compose([\n",
        "        transforms.Resize((250,250)),\n",
        "        transforms.ToTensor(),\n",
        "        transforms.Normalize((0.5, 0.5, 0.5), (0.5, 0.5, 0.5))\n",
        "    ])\n",
        "\n",
        "    dataset = make_dataset(idx, base_path, folders, 50000)\n",
        "\n",
        "    #declare pytorch dataset\n",
        "    torch_test = diagnoses(dataset, transform)\n",
        "\n",
        "    #create loaders\n",
        "    loader = torch.utils.data.DataLoader(torch_test, batch_size=batch_size,\n",
        "                              num_workers=0)\n",
        "\n",
        "    print(\"get data loader complete\")\n",
        "\n",
        "    return loader\n"
      ]
    },
    {
      "cell_type": "code",
      "execution_count": 8,
      "metadata": {
        "id": "a5k6U3R5zWpu",
        "outputId": "f62d2ee3-afc3-430f-fe84-c07c24944b6d",
        "colab": {
          "base_uri": "https://localhost:8080/"
        }
      },
      "outputs": [
        {
          "output_type": "stream",
          "name": "stdout",
          "text": [
            "get data loader complete\n"
          ]
        }
      ],
      "source": [
        "test_loader = get_data_loader_test(64, matches, base_path, folders)"
      ]
    },
    {
      "cell_type": "code",
      "execution_count": 9,
      "metadata": {
        "id": "tRZFHseFgobk"
      },
      "outputs": [],
      "source": [
        "def get_model_name(name, batch_size, learning_rate, epoch):\n",
        "\n",
        "    path = \"{0}_batch_{1}_lr_{2}_epoch_{3}.model\".format(name,\n",
        "                                                   batch_size,\n",
        "                                                   learning_rate,\n",
        "                                                   epoch)\n",
        "    return path\n",
        "\n",
        "def evaluate(model, loader, criterion):\n",
        "  model.eval()\n",
        "  total_loss = 0\n",
        "  correct = 0\n",
        "  total = 0\n",
        "\n",
        "  with torch.no_grad():\n",
        "      for data, target in loader:\n",
        "          if torch.cuda.is_available():\n",
        "              data, target = data.cuda(), target.cuda()\n",
        "\n",
        "          output = model(data)\n",
        "\n",
        "          # Check if the output is a tuple and extract the tensor if so\n",
        "          if isinstance(output, tuple):\n",
        "              output = output[0]\n",
        "\n",
        "          loss = criterion(output, target)\n",
        "          total_loss += loss.item()\n",
        "\n",
        "          _, predicted = torch.max(output.data, 1)\n",
        "          total += target.size(0)\n",
        "          correct += (predicted == target).sum().item()\n",
        "\n",
        "  avg_loss = total_loss / len(loader)\n",
        "  accuracy = correct / total\n",
        "  return accuracy, avg_loss\n"
      ]
    },
    {
      "cell_type": "code",
      "execution_count": 10,
      "metadata": {
        "id": "le3PLMhG63qN"
      },
      "outputs": [],
      "source": [
        "######################################################\n",
        "##############  Primary Model 5.0  ###################\n",
        "######################################################\n",
        "\n",
        "import torch\n",
        "import torch.nn as nn\n",
        "import torch.nn.functional as F\n",
        "\n",
        "class InceptionBlock(nn.Module):\n",
        "    def __init__(self, in_channels, f1, f2, f3, f4, f5, f6):\n",
        "        super(InceptionBlock, self).__init__()\n",
        "        self.name = 'InceptionBlock'\n",
        "        # Total output channels from all paths\n",
        "        out_channels = f1 + f3 + f5 + f6\n",
        "\n",
        "\n",
        "        self.conv1 = nn.Conv2d(in_channels, f1, kernel_size=1)\n",
        "        self.conv3_1 = nn.Conv2d(in_channels, f2, kernel_size=1)\n",
        "        self.conv3_2 = nn.Conv2d(f2, f3, kernel_size=3, padding=1)\n",
        "        self.conv5_1 = nn.Conv2d(in_channels, f4, kernel_size=5, padding=2)\n",
        "        self.conv5_2 = nn.Conv2d(f4, f5, kernel_size=5, padding=2)  # Additional 5x5 conv for depth\n",
        "        self.pool = nn.MaxPool2d(kernel_size=3, stride=1, padding=1)\n",
        "        self.pool_conv = nn.Conv2d(in_channels, f6, kernel_size=1)\n",
        "        self.res_conv = nn.Conv2d(in_channels, out_channels, kernel_size=1)\n",
        "\n",
        "    def forward(self, x):\n",
        "        res = self.res_conv(x)\n",
        "\n",
        "        x1 = F.relu(self.conv1(x))\n",
        "        x2 = F.relu(self.conv3_1(x))\n",
        "        x2 = F.relu(self.conv3_2(x2))\n",
        "        x3 = F.relu(self.conv5_1(x))\n",
        "        x3 = F.relu(self.conv5_2(x3))\n",
        "        x4 = self.pool(x)\n",
        "        x4 = F.relu(self.pool_conv(x4))\n",
        "\n",
        "        out = torch.cat([x1, x2, x3, x4], dim=1)\n",
        "        out += res  # Adding the residual connection\n",
        "        return F.relu(out)\n",
        "\n",
        "class AuxModel(nn.Module):\n",
        "    def __init__(self):\n",
        "        super(AuxModel, self).__init__()\n",
        "        self.name = 'AuxModel'\n",
        "        self.conv1 = nn.Conv2d(3, 64, kernel_size=3, padding=1)\n",
        "        self.bn1 = nn.BatchNorm2d(64)\n",
        "\n",
        "        self.inception1 = InceptionBlock(64, 16, 24, 32, 16, 32, 32)\n",
        "        self.inception2 = InceptionBlock(112, 32, 48, 64, 32, 64, 32)\n",
        "        self.inception3 = InceptionBlock(192, 64, 96, 128, 64, 128, 64)\n",
        "\n",
        "        self.dilated_conv = nn.Conv2d(384, 512, kernel_size=3, stride=1, padding=2, dilation=2)\n",
        "\n",
        "        self.maxpool = nn.MaxPool2d(kernel_size=2, stride=2)\n",
        "        self.avgpool = nn.AdaptiveAvgPool2d((1, 1))\n",
        "\n",
        "        # Main classification layer\n",
        "        self.fc1 = nn.Linear(512, 300)\n",
        "        self.fc2 = nn.Linear(300, 150)\n",
        "        self.fc3 = nn.Linear(150, 50)\n",
        "        self.fc4 = nn.Linear(50, 7)\n",
        "        # Auxiliary branch\n",
        "        self.auxiliary_avgpool = nn.AdaptiveAvgPool2d((1, 1))\n",
        "        self.auxiliary_fc1 = nn.Linear(192, 100)\n",
        "        self.auxiliary_fc2 = nn.Linear(100, 7)\n",
        "\n",
        "    def forward(self, x):\n",
        "        x = F.relu(self.bn1(self.conv1(x)))\n",
        "        x = self.maxpool(x)\n",
        "\n",
        "        x = self.inception1(x)\n",
        "        x = self.maxpool(x)\n",
        "\n",
        "\n",
        "        aux = self.inception2(x)\n",
        "        x = self.maxpool(aux)\n",
        "\n",
        "        x = self.inception3(x)\n",
        "\n",
        "        x = self.dilated_conv(x)\n",
        "\n",
        "        x = self.avgpool(x)\n",
        "        x = torch.flatten(x, 1)\n",
        "        x = self.fc1(x)\n",
        "        x = F.relu(self.fc2(x))\n",
        "        x = F.relu(self.fc3(x))\n",
        "        main_output = self.fc4(x)\n",
        "\n",
        "\n",
        "        # Auxiliary branch computations\n",
        "        aux = self.auxiliary_avgpool(aux)\n",
        "        aux = torch.flatten(aux, 1)\n",
        "        aux = F.relu(self.auxiliary_fc1(aux))\n",
        "        aux_output = self.auxiliary_fc2(aux)\n",
        "\n",
        "        return main_output, aux_output"
      ]
    },
    {
      "cell_type": "code",
      "execution_count": 11,
      "metadata": {
        "colab": {
          "base_uri": "https://localhost:8080/"
        },
        "id": "KcNx3pHX2pSL",
        "outputId": "5d13a585-ace5-4a83-cf46-b5d3f12e7573"
      },
      "outputs": [
        {
          "output_type": "execute_result",
          "data": {
            "text/plain": [
              "AuxModel(\n",
              "  (conv1): Conv2d(3, 64, kernel_size=(3, 3), stride=(1, 1), padding=(1, 1))\n",
              "  (bn1): BatchNorm2d(64, eps=1e-05, momentum=0.1, affine=True, track_running_stats=True)\n",
              "  (inception1): InceptionBlock(\n",
              "    (conv1): Conv2d(64, 16, kernel_size=(1, 1), stride=(1, 1))\n",
              "    (conv3_1): Conv2d(64, 24, kernel_size=(1, 1), stride=(1, 1))\n",
              "    (conv3_2): Conv2d(24, 32, kernel_size=(3, 3), stride=(1, 1), padding=(1, 1))\n",
              "    (conv5_1): Conv2d(64, 16, kernel_size=(5, 5), stride=(1, 1), padding=(2, 2))\n",
              "    (conv5_2): Conv2d(16, 32, kernel_size=(5, 5), stride=(1, 1), padding=(2, 2))\n",
              "    (pool): MaxPool2d(kernel_size=3, stride=1, padding=1, dilation=1, ceil_mode=False)\n",
              "    (pool_conv): Conv2d(64, 32, kernel_size=(1, 1), stride=(1, 1))\n",
              "    (res_conv): Conv2d(64, 112, kernel_size=(1, 1), stride=(1, 1))\n",
              "  )\n",
              "  (inception2): InceptionBlock(\n",
              "    (conv1): Conv2d(112, 32, kernel_size=(1, 1), stride=(1, 1))\n",
              "    (conv3_1): Conv2d(112, 48, kernel_size=(1, 1), stride=(1, 1))\n",
              "    (conv3_2): Conv2d(48, 64, kernel_size=(3, 3), stride=(1, 1), padding=(1, 1))\n",
              "    (conv5_1): Conv2d(112, 32, kernel_size=(5, 5), stride=(1, 1), padding=(2, 2))\n",
              "    (conv5_2): Conv2d(32, 64, kernel_size=(5, 5), stride=(1, 1), padding=(2, 2))\n",
              "    (pool): MaxPool2d(kernel_size=3, stride=1, padding=1, dilation=1, ceil_mode=False)\n",
              "    (pool_conv): Conv2d(112, 32, kernel_size=(1, 1), stride=(1, 1))\n",
              "    (res_conv): Conv2d(112, 192, kernel_size=(1, 1), stride=(1, 1))\n",
              "  )\n",
              "  (inception3): InceptionBlock(\n",
              "    (conv1): Conv2d(192, 64, kernel_size=(1, 1), stride=(1, 1))\n",
              "    (conv3_1): Conv2d(192, 96, kernel_size=(1, 1), stride=(1, 1))\n",
              "    (conv3_2): Conv2d(96, 128, kernel_size=(3, 3), stride=(1, 1), padding=(1, 1))\n",
              "    (conv5_1): Conv2d(192, 64, kernel_size=(5, 5), stride=(1, 1), padding=(2, 2))\n",
              "    (conv5_2): Conv2d(64, 128, kernel_size=(5, 5), stride=(1, 1), padding=(2, 2))\n",
              "    (pool): MaxPool2d(kernel_size=3, stride=1, padding=1, dilation=1, ceil_mode=False)\n",
              "    (pool_conv): Conv2d(192, 64, kernel_size=(1, 1), stride=(1, 1))\n",
              "    (res_conv): Conv2d(192, 384, kernel_size=(1, 1), stride=(1, 1))\n",
              "  )\n",
              "  (dilated_conv): Conv2d(384, 512, kernel_size=(3, 3), stride=(1, 1), padding=(2, 2), dilation=(2, 2))\n",
              "  (maxpool): MaxPool2d(kernel_size=2, stride=2, padding=0, dilation=1, ceil_mode=False)\n",
              "  (avgpool): AdaptiveAvgPool2d(output_size=(1, 1))\n",
              "  (fc1): Linear(in_features=512, out_features=300, bias=True)\n",
              "  (fc2): Linear(in_features=300, out_features=150, bias=True)\n",
              "  (fc3): Linear(in_features=150, out_features=50, bias=True)\n",
              "  (fc4): Linear(in_features=50, out_features=7, bias=True)\n",
              "  (auxiliary_avgpool): AdaptiveAvgPool2d(output_size=(1, 1))\n",
              "  (auxiliary_fc1): Linear(in_features=192, out_features=100, bias=True)\n",
              "  (auxiliary_fc2): Linear(in_features=100, out_features=7, bias=True)\n",
              ")"
            ]
          },
          "metadata": {},
          "execution_count": 11
        }
      ],
      "source": [
        "primary_model = AuxModel()\n",
        "if torch.cuda.is_available():\n",
        "    primary_model.cuda()\n",
        "\n",
        "bs = 64\n",
        "lr = 0.03\n",
        "epochs = 50\n",
        "model_path = './Model5.pt'\n",
        "\n",
        "\n",
        "primary_model.load_state_dict(torch.load(model_path, map_location=torch.device('cuda')))\n",
        "primary_model.eval()"
      ]
    },
    {
      "cell_type": "code",
      "source": [
        "criterion = nn.CrossEntropyLoss()\n",
        "\n",
        "val_err, val_loss = evaluate(primary_model, test_loader, criterion)"
      ],
      "metadata": {
        "id": "YggXMqRz4pVY"
      },
      "execution_count": 12,
      "outputs": []
    },
    {
      "cell_type": "code",
      "source": [
        "print(f\"accuracy is {1-val_err}, loss is {val_loss}\")"
      ],
      "metadata": {
        "colab": {
          "base_uri": "https://localhost:8080/"
        },
        "id": "czhBQMXe5gy2",
        "outputId": "6af3e784-7b94-4c71-a8e9-a886b6fc88d4"
      },
      "execution_count": 13,
      "outputs": [
        {
          "output_type": "stream",
          "name": "stdout",
          "text": [
            "accuracy is 0.5248180013236268, loss is 1.2863398268818855\n"
          ]
        }
      ]
    },
    {
      "cell_type": "code",
      "source": [
        "def get_predictions(model, data_loader):\n",
        "    model.eval()  # Set the model to evaluation mode\n",
        "    device = next(model.parameters()).device\n",
        "    predictions = []\n",
        "    true_labels = []\n",
        "\n",
        "    with torch.no_grad():\n",
        "        for images, labels in data_loader:\n",
        "            images, labels = images.to(device), labels.to(device)  # Move data to the same device as the model\n",
        "            outputs = model(images)\n",
        "            main_output = outputs[0]\n",
        "            _, predicted = torch.max(main_output.data, 1)\n",
        "            predictions.extend(predicted.cpu().numpy())\n",
        "            true_labels.extend(labels.cpu().numpy())\n",
        "\n",
        "    return predictions, true_labels"
      ],
      "metadata": {
        "id": "NqEXBR8R7lXJ"
      },
      "execution_count": 14,
      "outputs": []
    },
    {
      "cell_type": "code",
      "source": [
        "from sklearn.metrics import confusion_matrix\n",
        "import matplotlib.pyplot as plt\n",
        "import seaborn as sns\n",
        "from matplotlib.colors import LinearSegmentedColormap\n",
        "\n",
        "class_labels = ['nv', 'akiec', 'bcc', 'bkl', 'df', 'mel', 'vasc']\n",
        "\n",
        "colors = [\"red\", \"green\"]  # Red to green\n",
        "n_bins = 100\n",
        "cmap_name = \"custom_red_green\"\n",
        "cm = LinearSegmentedColormap.from_list(cmap_name, colors, N=n_bins)\n",
        "\n",
        "predictions, true_labels = get_predictions(primary_model, test_loader)\n",
        "\n",
        "cm_normalized = confusion_matrix(true_labels, predictions, normalize='true')\n",
        "\n",
        "plt.figure(figsize=(10,7))\n",
        "sns.heatmap(cm_normalized, annot=True, fmt='.2f', cmap=cm, xticklabels=class_labels, yticklabels=class_labels)\n",
        "plt.xlabel('Predicted')\n",
        "plt.ylabel('True')\n",
        "plt.title('Confusion Matrix for the Model')\n",
        "plt.savefig('normalized_confusion_matrix.png')\n",
        "plt.show()"
      ],
      "metadata": {
        "colab": {
          "base_uri": "https://localhost:8080/",
          "height": 641
        },
        "id": "aRtxgCdB7mYm",
        "outputId": "a88b14f7-afc6-4dc4-c569-b4df13094bdb"
      },
      "execution_count": 15,
      "outputs": [
        {
          "output_type": "display_data",
          "data": {
            "text/plain": [
              "<Figure size 1000x700 with 2 Axes>"
            ],
            "image/png": "[encoded data removed]"
          },
          "metadata": {}
        }
      ]
    },
    {
      "cell_type": "code",
      "source": [
        "def evaluate2(net, loader, criterion, class_names):\n",
        "    net.eval()\n",
        "    total_loss = 0.0\n",
        "    correct_predictions = 0.0\n",
        "    total_samples = 0\n",
        "\n",
        "    class_correct = [0 for _ in range(len(class_names))]\n",
        "    class_total = [0 for _ in range(len(class_names))]\n",
        "    class_loss = [0 for _ in range(len(class_names))]\n",
        "\n",
        "    with torch.no_grad():\n",
        "        for inputs, labels in loader:\n",
        "            if torch.cuda.is_available():\n",
        "                inputs = inputs.cuda()\n",
        "                labels = labels.cuda()\n",
        "\n",
        "            outputs = net(inputs)\n",
        "            if isinstance(outputs, tuple):\n",
        "                outputs = outputs[0]\n",
        "\n",
        "            loss = criterion(outputs, labels)\n",
        "            total_loss += loss.item()\n",
        "            _, predicted = torch.max(outputs.data, 1)\n",
        "            total_samples += labels.size(0)\n",
        "\n",
        "            for i in range(len(labels)):\n",
        "                label = labels[i].item()\n",
        "                class_correct[label] += (predicted[i] == label).item()\n",
        "                class_total[label] += 1\n",
        "                class_loss[label] += loss.item() / labels.size(0)\n",
        "\n",
        "    avg_accuracy = correct_predictions / total_samples\n",
        "    avg_loss = total_loss / len(loader)\n",
        "\n",
        "    # Calculate per-class accuracy and average loss\n",
        "    class_accuracies = [class_correct[i] / class_total[i] if class_total[i] > 0 else 0 for i in range(len(class_correct))]\n",
        "    class_avg_loss = [class_loss[i] / class_total[i] if class_total[i] > 0 else 0 for i in range(len(class_loss))]\n",
        "\n",
        "    net.train()  # Switch back to training mode\n",
        "    return class_accuracies, class_avg_loss"
      ],
      "metadata": {
        "id": "tTGGW73S7rFB"
      },
      "execution_count": 16,
      "outputs": []
    },
    {
      "cell_type": "code",
      "source": [
        "criterion = nn.CrossEntropyLoss()\n",
        "CLASSES = ('nv', 'akiec', 'bcc', 'bkl', 'df', 'mel', 'vasc')\n",
        "accuracy, loss = evaluate2(primary_model, test_loader, criterion, CLASSES)"
      ],
      "metadata": {
        "id": "PeAoLMpv70e4"
      },
      "execution_count": 17,
      "outputs": []
    },
    {
      "cell_type": "code",
      "source": [
        "for index, item in enumerate(CLASSES):\n",
        "    print(f\"accuracy for {item} is {round(accuracy[index],4)*100}%\")\n",
        "    print(f\"loss for {item} is {round(loss[index],4)}\\n\")"
      ],
      "metadata": {
        "colab": {
          "base_uri": "https://localhost:8080/"
        },
        "id": "cHQQdrvK71NJ",
        "outputId": "c81dfd97-7d92-41a3-f3f3-4ab4222ed186"
      },
      "execution_count": 18,
      "outputs": [
        {
          "output_type": "stream",
          "name": "stdout",
          "text": [
            "accuracy for nv is 49.89%\n",
            "loss for nv is 0.02\n",
            "\n",
            "accuracy for akiec is 65.12%\n",
            "loss for akiec is 0.0192\n",
            "\n",
            "accuracy for bcc is 34.410000000000004%\n",
            "loss for bcc is 0.0211\n",
            "\n",
            "accuracy for bkl is 23.5%\n",
            "loss for bkl is 0.0208\n",
            "\n",
            "accuracy for df is 9.09%\n",
            "loss for df is 0.022\n",
            "\n",
            "accuracy for mel is 77.19%\n",
            "loss for mel is 0.0218\n",
            "\n",
            "accuracy for vasc is 51.43%\n",
            "loss for vasc is 0.0209\n",
            "\n"
          ]
        }
      ]
    },
    {
      "cell_type": "code",
      "source": [
        "def map_labels_to_binary(label, cancer_classes):\n",
        "    return 1 if label in cancer_classes else 0\n",
        "\n",
        "# Define which classes are considered cancer\n",
        "cancer_classes = {1, 2, 5}\n",
        "\n",
        "binary_true_labels = [map_labels_to_binary(label, cancer_classes) for label in true_labels]\n",
        "binary_predictions = [map_labels_to_binary(label, cancer_classes) for label in predictions]"
      ],
      "metadata": {
        "id": "YXO4vHs77-SE"
      },
      "execution_count": 19,
      "outputs": []
    },
    {
      "cell_type": "code",
      "source": [
        "from sklearn.metrics import confusion_matrix\n",
        "import matplotlib.pyplot as plt\n",
        "import seaborn as sns\n",
        "\n",
        "binary_cm = confusion_matrix(binary_true_labels, binary_predictions)\n",
        "\n",
        "plt.figure(figsize=(8, 6))\n",
        "sns.heatmap(binary_cm, annot=True, fmt='.0f', cmap='Blues', xticklabels=['No Cancer', 'Cancer'], yticklabels=['No Cancer', 'Cancer'])\n",
        "plt.xlabel('Predicted')\n",
        "plt.ylabel('True')\n",
        "plt.title('Confusion Matrix for Cancer Classification')\n",
        "plt.savefig('confusion_matrix.png')\n",
        "plt.show()"
      ],
      "metadata": {
        "id": "an8rS6MM8B3C",
        "colab": {
          "base_uri": "https://localhost:8080/",
          "height": 564
        },
        "outputId": "998112f1-a209-42c6-a539-bbdf842091d5"
      },
      "execution_count": 20,
      "outputs": [
        {
          "output_type": "display_data",
          "data": {
            "text/plain": [
              "<Figure size 800x600 with 2 Axes>"
            ],
            "image/png": "[encoded data removed]"
          },
          "metadata": {}
        }
      ]
    },
    {
      "cell_type": "code",
      "source": [
        "import numpy as np\n",
        "from sklearn.metrics import confusion_matrix\n",
        "import matplotlib.pyplot as plt\n",
        "import seaborn as sns\n",
        "\n",
        "binary_true_labels = np.array([1 if label == 5 else 0 for label in true_labels])\n",
        "binary_predictions = np.array([1 if label == 5 else 0 for label in predictions])\n",
        "\n",
        "binary_cm = confusion_matrix(binary_true_labels, binary_predictions)\n",
        "\n",
        "plt.figure(figsize=(8, 6))\n",
        "sns.heatmap(binary_cm, annot=True, fmt='d', cmap='Blues', xticklabels=['Not Mel', 'Mel'], yticklabels=['Not Mel', 'Mel'])\n",
        "plt.xlabel('Predicted')\n",
        "plt.ylabel('True')\n",
        "plt.title('Confusion Matrix for Melanoma Classification')\n",
        "plt.show()"
      ],
      "metadata": {
        "colab": {
          "base_uri": "https://localhost:8080/",
          "height": 564
        },
        "id": "TNroTEyMuN28",
        "outputId": "626ae9f4-3245-4d59-c510-cb8b449776b3"
      },
      "execution_count": 21,
      "outputs": [
        {
          "output_type": "display_data",
          "data": {
            "text/plain": [
              "<Figure size 800x600 with 2 Axes>"
            ],
            "image/png": "[encoded data removed]"
          },
          "metadata": {}
        }
      ]
    }
  ],
  "metadata": {
    "colab": {
      "provenance": [],
      "machine_shape": "hm",
      "collapsed_sections": [
        "fmcdjlzF4xMH"
      ],
      "gpuType": "V100"
    },
    "kernelspec": {
      "display_name": "aps360",
      "language": "python",
      "name": "aps360"
    },
    "language_info": {
      "codemirror_mode": {
        "name": "ipython",
        "version": 3
      },
      "file_extension": ".py",
      "mimetype": "text/x-python",
      "name": "python",
      "nbconvert_exporter": "python",
      "pygments_lexer": "ipython3",
      "version": "3.11.7"
    },
    "accelerator": "GPU"
  },
  "nbformat": 4,
  "nbformat_minor": 0
}